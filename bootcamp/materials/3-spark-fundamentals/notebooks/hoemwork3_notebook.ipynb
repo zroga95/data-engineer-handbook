{
 "cells": [
  {
   "cell_type": "code",
   "execution_count": 1,
   "id": "79c41a82-3737-4d5d-97af-df2b453568e1",
   "metadata": {},
   "outputs": [
    {
     "name": "stderr",
     "output_type": "stream",
     "text": [
      "24/12/15 21:44:44 WARN SparkSession: Using an existing Spark session; only runtime SQL configurations will take effect.\n"
     ]
    }
   ],
   "source": [
    "from pyspark.sql import SparkSession\n",
    "from pyspark.sql.functions import expr, col, lit, broadcast, count, avg\n",
    "spark = SparkSession.builder.appName(\"Jupyter\").getOrCreate()\n",
    "\n"
   ]
  },
  {
   "cell_type": "code",
   "execution_count": 24,
   "id": "12e5d618-0002-4133-bc01-105eb637d7dc",
   "metadata": {},
   "outputs": [
    {
     "data": {
      "text/html": [
       "<table>\n",
       "    <thead>\n",
       "        <tr>\n",
       "        </tr>\n",
       "    </thead>\n",
       "    <tbody>\n",
       "    </tbody>\n",
       "</table>"
      ],
      "text/plain": [
       "++\n",
       "||\n",
       "++\n",
       "++"
      ]
     },
     "execution_count": 24,
     "metadata": {},
     "output_type": "execute_result"
    }
   ],
   "source": [
    "%%sql \n",
    "    \n",
    "DROP TABLE IF EXISTS bootcamp.MatchesDfBucketed"
   ]
  },
  {
   "cell_type": "code",
   "execution_count": 25,
   "id": "b528064b-ab62-462f-a1c8-cfdec699e0f3",
   "metadata": {},
   "outputs": [
    {
     "data": {
      "text/html": [
       "<table>\n",
       "    <thead>\n",
       "        <tr>\n",
       "        </tr>\n",
       "    </thead>\n",
       "    <tbody>\n",
       "    </tbody>\n",
       "</table>"
      ],
      "text/plain": [
       "++\n",
       "||\n",
       "++\n",
       "++"
      ]
     },
     "execution_count": 25,
     "metadata": {},
     "output_type": "execute_result"
    }
   ],
   "source": [
    "%%sql\n",
    "DROP TABLE IF EXISTS  bootcamp.MedalMatchesPlayersDfBucketed;"
   ]
  },
  {
   "cell_type": "code",
   "execution_count": 26,
   "id": "b9bf0a26-3b29-45b2-a51a-1ed5f3c586e6",
   "metadata": {},
   "outputs": [
    {
     "data": {
      "text/html": [
       "<table>\n",
       "    <thead>\n",
       "        <tr>\n",
       "        </tr>\n",
       "    </thead>\n",
       "    <tbody>\n",
       "    </tbody>\n",
       "</table>"
      ],
      "text/plain": [
       "++\n",
       "||\n",
       "++\n",
       "++"
      ]
     },
     "execution_count": 26,
     "metadata": {},
     "output_type": "execute_result"
    }
   ],
   "source": [
    "%%sql\n",
    "\n",
    "DROP TABLE IF EXISTS bootcamp.MatchDetailsDfBucketed;"
   ]
  },
  {
   "cell_type": "code",
   "execution_count": 27,
   "id": "f5080913-f6a0-4122-b53b-ca689db3976b",
   "metadata": {},
   "outputs": [
    {
     "data": {
      "text/html": [
       "<table>\n",
       "    <thead>\n",
       "        <tr>\n",
       "        </tr>\n",
       "    </thead>\n",
       "    <tbody>\n",
       "    </tbody>\n",
       "</table>"
      ],
      "text/plain": [
       "++\n",
       "||\n",
       "++\n",
       "++"
      ]
     },
     "execution_count": 27,
     "metadata": {},
     "output_type": "execute_result"
    }
   ],
   "source": [
    "%%sql\n",
    "\n",
    "DROP TABLE IF EXISTS bootcamp.full_annotated_matches_unsorted"
   ]
  },
  {
   "cell_type": "code",
   "execution_count": 28,
   "id": "05e2ce7a-dbc1-447e-8439-a29817e68a71",
   "metadata": {},
   "outputs": [
    {
     "data": {
      "text/html": [
       "<table>\n",
       "    <thead>\n",
       "        <tr>\n",
       "        </tr>\n",
       "    </thead>\n",
       "    <tbody>\n",
       "    </tbody>\n",
       "</table>"
      ],
      "text/plain": [
       "++\n",
       "||\n",
       "++\n",
       "++"
      ]
     },
     "execution_count": 28,
     "metadata": {},
     "output_type": "execute_result"
    }
   ],
   "source": [
    "%%sql\n",
    "\n",
    "DROP TABLE IF EXISTS bootcamp.full_annotated_matches_sorted"
   ]
  },
  {
   "cell_type": "code",
   "execution_count": 7,
   "id": "92150c20-79e8-4fd5-a1f2-358e140a0f62",
   "metadata": {},
   "outputs": [],
   "source": [
    "spark.conf.set(\"spark.sql.autoBroadcastJoinThreshold\", \"-1\")"
   ]
  },
  {
   "cell_type": "code",
   "execution_count": 8,
   "id": "4b1273d6-7570-4f15-b175-e7ad06d53e00",
   "metadata": {},
   "outputs": [],
   "source": [
    "medals_df = spark.read.option(\"header\", \"true\").csv(\"/home/iceberg/data/medals.csv\");\n",
    "#.withColumn(\"event_date\", expr(\"DATE_TRUNC('day', event_time)\"))\n",
    "\n",
    "\n",
    "maps_df = spark.read.option(\"header\", \"true\").csv(\"/home/iceberg/data/maps.csv\").select(col(\"mapid\"),col(\"description\").alias(\"maps_description\"), col(\"name\").alias(\"maps_name\"))#.withColumn(\"event_date\", expr(\"DATE_TRUNC('day', event_time)\"))\n",
    "\n",
    "\n",
    "match_details_df = spark.read.option(\"header\", \"true\").csv(\"/home/iceberg/data/match_details.csv\")#.withColumn(\"event_date\", expr(\"DATE_TRUNC('day', event_time)\"))\n",
    "\n",
    "\n",
    "matches_df = spark.read.option(\"header\", \"true\").csv(\"/home/iceberg/data/matches.csv\")#.withColumn(\"event_date\", expr(\"DATE_TRUNC('day', event_time)\"))\n",
    "\n",
    "\n",
    "medal_matches_players_df = spark.read.option(\"header\", \"true\").csv(\"/home/iceberg/data/medals_matches_players.csv\")#.withColumn(\"event_date\", expr(\"DATE_TRUNC('day', event_time)\"))\n"
   ]
  },
  {
   "cell_type": "code",
   "execution_count": 9,
   "id": "880be0de-43d5-4de2-9aca-58ea8b9cc8e3",
   "metadata": {},
   "outputs": [
    {
     "name": "stderr",
     "output_type": "stream",
     "text": [
      "24/12/15 21:44:50 WARN SparkStringUtils: Truncated the string representation of a plan since it was too large. This behavior can be adjusted by setting 'spark.sql.debug.maxToStringFields'.\n",
      "                                                                                \r"
     ]
    }
   ],
   "source": [
    "match_details_df.write\\\n",
    "    .bucketBy(16, 'match_id') \\\n",
    "    .saveAsTable('bootcamp.MatchDetailsDfBucketed', format='parquet')\n",
    "\n",
    "matches_df.write\\\n",
    "    .bucketBy(16, 'match_id') \\\n",
    "    .saveAsTable('bootcamp.MatchesDfBucketed', format='parquet')\n",
    "\n",
    "medal_matches_players_df.write\\\n",
    "    .bucketBy(16, 'match_id') \\\n",
    "    .saveAsTable('bootcamp.MedalMatchesPlayersDfBucketed', format='parquet')\n",
    "\n",
    "match_details_df_bucketed = spark.table('bootcamp.MatchDetailsDfBucketed')\n",
    "matches_df_bucketed = spark.table('bootcamp.MatchesDfBucketed')\n",
    "medal_matches_players_df_bucketed = spark.table('bootcamp.MedalMatchesPlayersDfBucketed')"
   ]
  },
  {
   "cell_type": "code",
   "execution_count": 10,
   "id": "0b8deeda-0df0-4011-9813-e9ba8e28fb3b",
   "metadata": {},
   "outputs": [],
   "source": [
    "#matches_df.join(match_details_df, 'match_id').explain()"
   ]
  },
  {
   "cell_type": "code",
   "execution_count": 11,
   "id": "cb04e12b-1811-4e86-9ddc-6fa31b9f056f",
   "metadata": {},
   "outputs": [
    {
     "name": "stderr",
     "output_type": "stream",
     "text": [
      "[Stage 15:>                                                         (0 + 4) / 4]\r"
     ]
    },
    {
     "name": "stdout",
     "output_type": "stream",
     "text": [
      "+--------------------+---------------+--------------------+------------+--------------------+--------------------+-------------+--------------------+--------------+---------+--------------------+---------------------+------------+-----------------+--------+-----------------+------------------------+------------+---------------------------------+-----------------+----------------+-----------------------+-----------+--------------------------------+----------------+-------------------+---------------+-------------------+------------------+----------------------+--------------------------+-------------------------+------------------------+-------------------------+---------------------------+-------------------------------+--------------------------------+---------------------------+--------------------------------+-------------------------------+-------------------+--------------------+--------------------------+-------+-------+----------+-----+\n",
      "|            match_id|player_gamertag|               mapid|is_team_game|         playlist_id|     game_variant_id|is_match_over|     completion_date|match_duration|game_mode|      map_variant_id|previous_spartan_rank|spartan_rank|previous_total_xp|total_xp|previous_csr_tier|previous_csr_designation|previous_csr|previous_csr_percent_to_next_tier|previous_csr_rank|current_csr_tier|current_csr_designation|current_csr|current_csr_percent_to_next_tier|current_csr_rank|player_rank_on_team|player_finished|player_average_life|player_total_kills|player_total_headshots|player_total_weapon_damage|player_total_shots_landed|player_total_melee_kills|player_total_melee_damage|player_total_assassinations|player_total_ground_pound_kills|player_total_shoulder_bash_kills|player_total_grenade_damage|player_total_power_weapon_damage|player_total_power_weapon_grabs|player_total_deaths|player_total_assists|player_total_grenade_kills|did_win|team_id|  medal_id|count|\n",
      "+--------------------+---------------+--------------------+------------+--------------------+--------------------+-------------+--------------------+--------------+---------+--------------------+---------------------+------------+-----------------+--------+-----------------+------------------------+------------+---------------------------------+-----------------+----------------+-----------------------+-----------+--------------------------------+----------------+-------------------+---------------+-------------------+------------------+----------------------+--------------------------+-------------------------+------------------------+-------------------------+---------------------------+-------------------------------+--------------------------------+---------------------------+--------------------------------+-------------------------------+-------------------+--------------------+--------------------------+-------+-------+----------+-----+\n",
      "|003218a6-bc5f-427...|       EcZachly|cd844200-f206-11e...|        NULL|2323b76a-db98-4e0...|257a305e-4dd3-41f...|         NULL|2016-01-26 00:00:...|          NULL|     NULL|f6a9109c-a401-41c...|                   82|          82|          2265429| 2266723|                2|                       5|           0|                               92|             NULL|               3|                      5|          0|                              18|            NULL|                  3|          false|      PT15.0930657S|                12|                    11|         611.6666946411133|                       23|                       1|       45.004499999806285|                          0|                              0|                               0|                          0|                               0|                              0|                 14|                   3|                         0|      1|      0|3261908037|   11|\n",
      "|003218a6-bc5f-427...|       EcZachly|cd844200-f206-11e...|        NULL|2323b76a-db98-4e0...|257a305e-4dd3-41f...|         NULL|2016-01-26 00:00:...|          NULL|     NULL|f6a9109c-a401-41c...|                   82|          82|          2265429| 2266723|                2|                       5|           0|                               92|             NULL|               3|                      5|          0|                              18|            NULL|                  3|          false|      PT15.0930657S|                12|                    11|         611.6666946411133|                       23|                       1|       45.004499999806285|                          0|                              0|                               0|                          0|                               0|                              0|                 14|                   3|                         0|      1|      0|2763748638|    1|\n",
      "|003218a6-bc5f-427...|       EcZachly|cd844200-f206-11e...|        NULL|2323b76a-db98-4e0...|257a305e-4dd3-41f...|         NULL|2016-01-26 00:00:...|          NULL|     NULL|f6a9109c-a401-41c...|                   82|          82|          2265429| 2266723|                2|                       5|           0|                               92|             NULL|               3|                      5|          0|                              18|            NULL|                  3|          false|      PT15.0930657S|                12|                    11|         611.6666946411133|                       23|                       1|       45.004499999806285|                          0|                              0|                               0|                          0|                               0|                              0|                 14|                   3|                         0|      1|      0|3710519250|    1|\n",
      "|003218a6-bc5f-427...|       EcZachly|cd844200-f206-11e...|        NULL|2323b76a-db98-4e0...|257a305e-4dd3-41f...|         NULL|2016-01-26 00:00:...|          NULL|     NULL|f6a9109c-a401-41c...|                   82|          82|          2265429| 2266723|                2|                       5|           0|                               92|             NULL|               3|                      5|          0|                              18|            NULL|                  3|          false|      PT15.0930657S|                12|                    11|         611.6666946411133|                       23|                       1|       45.004499999806285|                          0|                              0|                               0|                          0|                               0|                              0|                 14|                   3|                         0|      1|      0| 250435527|    1|\n",
      "|003218a6-bc5f-427...|       EcZachly|cd844200-f206-11e...|        NULL|2323b76a-db98-4e0...|257a305e-4dd3-41f...|         NULL|2016-01-26 00:00:...|          NULL|     NULL|f6a9109c-a401-41c...|                   82|          82|          2265429| 2266723|                2|                       5|           0|                               92|             NULL|               3|                      5|          0|                              18|            NULL|                  3|          false|      PT15.0930657S|                12|                    11|         611.6666946411133|                       23|                       1|       45.004499999806285|                          0|                              0|                               0|                          0|                               0|                              0|                 14|                   3|                         0|      1|      0|2078758684|    1|\n",
      "|003218a6-bc5f-427...|       EcZachly|cd844200-f206-11e...|        NULL|2323b76a-db98-4e0...|257a305e-4dd3-41f...|         NULL|2016-01-26 00:00:...|          NULL|     NULL|f6a9109c-a401-41c...|                   82|          82|          2265429| 2266723|                2|                       5|           0|                               92|             NULL|               3|                      5|          0|                              18|            NULL|                  3|          false|      PT15.0930657S|                12|                    11|         611.6666946411133|                       23|                       1|       45.004499999806285|                          0|                              0|                               0|                          0|                               0|                              0|                 14|                   3|                         0|      1|      0|2782465081|    3|\n",
      "|003218a6-bc5f-427...|       EcZachly|cd844200-f206-11e...|        NULL|2323b76a-db98-4e0...|257a305e-4dd3-41f...|         NULL|2016-01-26 00:00:...|          NULL|     NULL|f6a9109c-a401-41c...|                   82|          82|          2265429| 2266723|                2|                       5|           0|                               92|             NULL|               3|                      5|          0|                              18|            NULL|                  3|          false|      PT15.0930657S|                12|                    11|         611.6666946411133|                       23|                       1|       45.004499999806285|                          0|                              0|                               0|                          0|                               0|                              0|                 14|                   3|                         0|      1|      0| 824733727|    1|\n",
      "|024a6da0-74fe-47d...|    x Steener x|caacb800-f206-11e...|        NULL|892189e9-d712-4bd...|257a305e-4dd3-41f...|         NULL|2016-01-27 00:00:...|          NULL|     NULL|                NULL|                   35|          35|           418123|  419243|                5|                       4|           0|                               12|             NULL|               4|                      4|          0|                              82|            NULL|                  7|          false|      PT19.2789294S|                 8|                     7|        1703.8954906463623|                       79|                       0|         76.9230728149414|                          0|                              0|                               0|         263.72625732421875|                             390|                              1|                 14|                   3|                         0|      0|      0|3261908037|    5|\n",
      "|024a6da0-74fe-47d...|    x Steener x|caacb800-f206-11e...|        NULL|892189e9-d712-4bd...|257a305e-4dd3-41f...|         NULL|2016-01-27 00:00:...|          NULL|     NULL|                NULL|                   35|          35|           418123|  419243|                5|                       4|           0|                               12|             NULL|               4|                      4|          0|                              82|            NULL|                  7|          false|      PT19.2789294S|                 8|                     7|        1703.8954906463623|                       79|                       0|         76.9230728149414|                          0|                              0|                               0|         263.72625732421875|                             390|                              1|                 14|                   3|                         0|      0|      0|2782465081|    1|\n",
      "|024a6da0-74fe-47d...|    x Steener x|caacb800-f206-11e...|        NULL|892189e9-d712-4bd...|257a305e-4dd3-41f...|         NULL|2016-01-27 00:00:...|          NULL|     NULL|                NULL|                   35|          35|           418123|  419243|                5|                       4|           0|                               12|             NULL|               4|                      4|          0|                              82|            NULL|                  7|          false|      PT19.2789294S|                 8|                     7|        1703.8954906463623|                       79|                       0|         76.9230728149414|                          0|                              0|                               0|         263.72625732421875|                             390|                              1|                 14|                   3|                         0|      0|      0| 824733727|    1|\n",
      "|024a6da0-74fe-47d...|    x Steener x|caacb800-f206-11e...|        NULL|892189e9-d712-4bd...|257a305e-4dd3-41f...|         NULL|2016-01-27 00:00:...|          NULL|     NULL|                NULL|                   35|          35|           418123|  419243|                5|                       4|           0|                               12|             NULL|               4|                      4|          0|                              82|            NULL|                  7|          false|      PT19.2789294S|                 8|                     7|        1703.8954906463623|                       79|                       0|         76.9230728149414|                          0|                              0|                               0|         263.72625732421875|                             390|                              1|                 14|                   3|                         0|      0|      0| 848240062|    1|\n",
      "|024a6da0-74fe-47d...|    x Steener x|caacb800-f206-11e...|        NULL|892189e9-d712-4bd...|257a305e-4dd3-41f...|         NULL|2016-01-27 00:00:...|          NULL|     NULL|                NULL|                   35|          35|           418123|  419243|                5|                       4|           0|                               12|             NULL|               4|                      4|          0|                              82|            NULL|                  7|          false|      PT19.2789294S|                 8|                     7|        1703.8954906463623|                       79|                       0|         76.9230728149414|                          0|                              0|                               0|         263.72625732421875|                             390|                              1|                 14|                   3|                         0|      0|      0|1986137636|    1|\n",
      "|024a6da0-74fe-47d...|    x Steener x|caacb800-f206-11e...|        NULL|892189e9-d712-4bd...|257a305e-4dd3-41f...|         NULL|2016-01-27 00:00:...|          NULL|     NULL|                NULL|                   35|          35|           418123|  419243|                5|                       4|           0|                               12|             NULL|               4|                      4|          0|                              82|            NULL|                  7|          false|      PT19.2789294S|                 8|                     7|        1703.8954906463623|                       79|                       0|         76.9230728149414|                          0|                              0|                               0|         263.72625732421875|                             390|                              1|                 14|                   3|                         0|      0|      0|2078758684|    1|\n",
      "|0885694c-4e41-4ce...|    ILLICIT 117|c7edbf0f-f206-11e...|        NULL|f72e0ef0-7c4a-430...|1e473914-46e4-408...|         NULL|2016-01-23 00:00:...|          NULL|     NULL|                NULL|                   83|          83|          2326274| 2328267|                6|                       5|           0|                                8|             NULL|               5|                      5|          0|                              74|            NULL|                  6|          false|      PT36.1804258S|                10|                     4|         756.4377987533808|                       50|                       3|         293.299991607666|                          0|                              0|                               0|          143.9878018051386|              14.999996185302734|                              0|                  7|                   5|                         0|      0|      0| 824733727|    1|\n",
      "|0885694c-4e41-4ce...|    ILLICIT 117|c7edbf0f-f206-11e...|        NULL|f72e0ef0-7c4a-430...|1e473914-46e4-408...|         NULL|2016-01-23 00:00:...|          NULL|     NULL|                NULL|                   83|          83|          2326274| 2328267|                6|                       5|           0|                                8|             NULL|               5|                      5|          0|                              74|            NULL|                  6|          false|      PT36.1804258S|                10|                     4|         756.4377987533808|                       50|                       3|         293.299991607666|                          0|                              0|                               0|          143.9878018051386|              14.999996185302734|                              0|                  7|                   5|                         0|      0|      0|3261908037|    4|\n",
      "|0885694c-4e41-4ce...|    ILLICIT 117|c7edbf0f-f206-11e...|        NULL|f72e0ef0-7c4a-430...|1e473914-46e4-408...|         NULL|2016-01-23 00:00:...|          NULL|     NULL|                NULL|                   83|          83|          2326274| 2328267|                6|                       5|           0|                                8|             NULL|               5|                      5|          0|                              74|            NULL|                  6|          false|      PT36.1804258S|                10|                     4|         756.4377987533808|                       50|                       3|         293.299991607666|                          0|                              0|                               0|          143.9878018051386|              14.999996185302734|                              0|                  7|                   5|                         0|      0|      0|2287626681|    3|\n",
      "|0885694c-4e41-4ce...|    ILLICIT 117|c7edbf0f-f206-11e...|        NULL|f72e0ef0-7c4a-430...|1e473914-46e4-408...|         NULL|2016-01-23 00:00:...|          NULL|     NULL|                NULL|                   83|          83|          2326274| 2328267|                6|                       5|           0|                                8|             NULL|               5|                      5|          0|                              74|            NULL|                  6|          false|      PT36.1804258S|                10|                     4|         756.4377987533808|                       50|                       3|         293.299991607666|                          0|                              0|                               0|          143.9878018051386|              14.999996185302734|                              0|                  7|                   5|                         0|      0|      0|2838259753|    2|\n",
      "|0885694c-4e41-4ce...|    ILLICIT 117|c7edbf0f-f206-11e...|        NULL|f72e0ef0-7c4a-430...|1e473914-46e4-408...|         NULL|2016-01-23 00:00:...|          NULL|     NULL|                NULL|                   83|          83|          2326274| 2328267|                6|                       5|           0|                                8|             NULL|               5|                      5|          0|                              74|            NULL|                  6|          false|      PT36.1804258S|                10|                     4|         756.4377987533808|                       50|                       3|         293.299991607666|                          0|                              0|                               0|          143.9878018051386|              14.999996185302734|                              0|                  7|                   5|                         0|      0|      0|1573153198|    1|\n",
      "|0885694c-4e41-4ce...|    ILLICIT 117|c7edbf0f-f206-11e...|        NULL|f72e0ef0-7c4a-430...|1e473914-46e4-408...|         NULL|2016-01-23 00:00:...|          NULL|     NULL|                NULL|                   83|          83|          2326274| 2328267|                6|                       5|           0|                                8|             NULL|               5|                      5|          0|                              74|            NULL|                  6|          false|      PT36.1804258S|                10|                     4|         756.4377987533808|                       50|                       3|         293.299991607666|                          0|                              0|                               0|          143.9878018051386|              14.999996185302734|                              0|                  7|                   5|                         0|      0|      0|2078758684|    1|\n",
      "|243420cb-4455-4f2...|       EcZachly|c7edbf0f-f206-11e...|        NULL|f72e0ef0-7c4a-430...|1e473914-46e4-408...|         NULL|2016-01-22 00:00:...|          NULL|     NULL|                NULL|                   77|          77|          1934772| 1935933|                5|                       5|           0|                               44|             NULL|               5|                      5|          0|                              70|            NULL|                  2|          false|      PT37.0928615S|                 5|                     4|         469.4508078098297|                       28|                       0|                        0|                          0|                              0|                               0|         23.650819063186646|                               0|                              0|                  0|                   5|                         0|      1|      0|3261908037|    4|\n",
      "+--------------------+---------------+--------------------+------------+--------------------+--------------------+-------------+--------------------+--------------+---------+--------------------+---------------------+------------+-----------------+--------+-----------------+------------------------+------------+---------------------------------+-----------------+----------------+-----------------------+-----------+--------------------------------+----------------+-------------------+---------------+-------------------+------------------+----------------------+--------------------------+-------------------------+------------------------+-------------------------+---------------------------+-------------------------------+--------------------------------+---------------------------+--------------------------------+-------------------------------+-------------------+--------------------+--------------------------+-------+-------+----------+-----+\n",
      "only showing top 20 rows\n",
      "\n"
     ]
    },
    {
     "name": "stderr",
     "output_type": "stream",
     "text": [
      "                                                                                \r"
     ]
    }
   ],
   "source": [
    "bucket_joined = matches_df_bucketed.join( \n",
    "    match_details_df_bucketed, 'match_id', 'left').join(\n",
    "    medal_matches_players_df_bucketed, ['match_id', 'player_gamertag'], 'left')\n",
    "#\n",
    "bucket_joined.show()"
   ]
  },
  {
   "cell_type": "code",
   "execution_count": 12,
   "id": "2bdcc9a8-48dc-48a2-96bf-d5bae818489a",
   "metadata": {},
   "outputs": [
    {
     "name": "stderr",
     "output_type": "stream",
     "text": [
      "[Stage 32:===================================================>    (12 + 1) / 13]\r"
     ]
    },
    {
     "name": "stdout",
     "output_type": "stream",
     "text": [
      "+--------------------+----------+--------------------+---------------+------------+--------------------+--------------------+-------------+--------------------+--------------+---------+--------------------+---------------------+------------+-----------------+--------+-----------------+------------------------+------------+---------------------------------+-----------------+----------------+-----------------------+-----------+--------------------------------+----------------+-------------------+---------------+-------------------+------------------+----------------------+--------------------------+-------------------------+------------------------+-------------------------+---------------------------+-------------------------------+--------------------------------+---------------------------+--------------------------------+-------------------------------+-------------------+--------------------+--------------------------+-------+-------+-----+--------------------+-----------+----------+------------------+-------------------+------------+-------------+-----------------+--------------------+-------------------+----------+--------------------+---------+\n",
      "|               mapid|  medal_id|            match_id|player_gamertag|is_team_game|         playlist_id|     game_variant_id|is_match_over|     completion_date|match_duration|game_mode|      map_variant_id|previous_spartan_rank|spartan_rank|previous_total_xp|total_xp|previous_csr_tier|previous_csr_designation|previous_csr|previous_csr_percent_to_next_tier|previous_csr_rank|current_csr_tier|current_csr_designation|current_csr|current_csr_percent_to_next_tier|current_csr_rank|player_rank_on_team|player_finished|player_average_life|player_total_kills|player_total_headshots|player_total_weapon_damage|player_total_shots_landed|player_total_melee_kills|player_total_melee_damage|player_total_assassinations|player_total_ground_pound_kills|player_total_shoulder_bash_kills|player_total_grenade_damage|player_total_power_weapon_damage|player_total_power_weapon_grabs|player_total_deaths|player_total_assists|player_total_grenade_kills|did_win|team_id|count|          sprite_uri|sprite_left|sprite_top|sprite_sheet_width|sprite_sheet_height|sprite_width|sprite_height|   classification|         description|               name|difficulty|    maps_description|maps_name|\n",
      "+--------------------+----------+--------------------+---------------+------------+--------------------+--------------------+-------------+--------------------+--------------+---------+--------------------+---------------------+------------+-----------------+--------+-----------------+------------------------+------------+---------------------------------+-----------------+----------------+-----------------------+-----------+--------------------------------+----------------+-------------------+---------------+-------------------+------------------+----------------------+--------------------------+-------------------------+------------------------+-------------------------+---------------------------+-------------------------------+--------------------------------+---------------------------+--------------------------------+-------------------------------+-------------------+--------------------+--------------------------+-------+-------+-----+--------------------+-----------+----------+------------------+-------------------+------------+-------------+-----------------+--------------------+-------------------+----------+--------------------+---------+\n",
      "|c7805740-f206-11e...|3565443938|0001a1c4-83dc-4f4...|    ILLICIT 117|        true|780cc101-005c-4fc...|b45854a7-e6e1-4a9...|         true|2016-01-06 00:00:...|          NULL|     NULL|51db9164-a000-462...|                   69|          69|          1658879| 1660583|             NULL|                    NULL|        NULL|                             NULL|             NULL|            NULL|                   NULL|       NULL|                            NULL|            NULL|                  9|          false|      PT23.6586654S|                23|                     8|         2844.956983089447|                      234|                       1|                      115|                          0|                              0|                               2|          283.0304431915283|               968.3815231323242|                              0|                 28|                  10|                         0|      0|      1|    4|https://content.h...|        750|       450|                74|                 74|        1125|          899|      Strongholds|Capture a Strongh...|Stronghold Captured|        15|Each of Halo's mi...|  Glacier|\n",
      "|c7805740-f206-11e...|3261908037|0001a1c4-83dc-4f4...|    ILLICIT 117|        true|780cc101-005c-4fc...|b45854a7-e6e1-4a9...|         true|2016-01-06 00:00:...|          NULL|     NULL|51db9164-a000-462...|                   69|          69|          1658879| 1660583|             NULL|                    NULL|        NULL|                             NULL|             NULL|            NULL|                   NULL|       NULL|                            NULL|            NULL|                  9|          false|      PT23.6586654S|                23|                     8|         2844.956983089447|                      234|                       1|                      115|                          0|                              0|                               2|          283.0304431915283|               968.3815231323242|                              0|                 28|                  10|                         0|      0|      1|    8|https://content.h...|        375|       525|                74|                 74|        1125|          899|WeaponProficiency|Kill an opponent ...|           Headshot|        60|Each of Halo's mi...|  Glacier|\n",
      "|c7805740-f206-11e...| 824733727|0001a1c4-83dc-4f4...|    ILLICIT 117|        true|780cc101-005c-4fc...|b45854a7-e6e1-4a9...|         true|2016-01-06 00:00:...|          NULL|     NULL|51db9164-a000-462...|                   69|          69|          1658879| 1660583|             NULL|                    NULL|        NULL|                             NULL|             NULL|            NULL|                   NULL|       NULL|                            NULL|            NULL|                  9|          false|      PT23.6586654S|                23|                     8|         2844.956983089447|                      234|                       1|                      115|                          0|                              0|                               2|          283.0304431915283|               968.3815231323242|                              0|                 28|                  10|                         0|      0|      1|    1|https://content.h...|        975|       450|                74|                 74|        1125|          899|            Style|Distract an oppon...|        Distraction|       150|Each of Halo's mi...|  Glacier|\n",
      "|c7805740-f206-11e...| 298813630|0001a1c4-83dc-4f4...|    ILLICIT 117|        true|780cc101-005c-4fc...|b45854a7-e6e1-4a9...|         true|2016-01-06 00:00:...|          NULL|     NULL|51db9164-a000-462...|                   69|          69|          1658879| 1660583|             NULL|                    NULL|        NULL|                             NULL|             NULL|            NULL|                   NULL|       NULL|                            NULL|            NULL|                  9|          false|      PT23.6586654S|                23|                     8|         2844.956983089447|                      234|                       1|                      115|                          0|                              0|                               2|          283.0304431915283|               968.3815231323242|                              0|                 28|                  10|                         0|      0|      1|    2|https://content.h...|          0|       825|                74|                 74|        1125|          899|            Style|Kill an enemy wit...|     Spartan Charge|       135|Each of Halo's mi...|  Glacier|\n",
      "|c7805740-f206-11e...|1351381581|0001a1c4-83dc-4f4...|    ILLICIT 117|        true|780cc101-005c-4fc...|b45854a7-e6e1-4a9...|         true|2016-01-06 00:00:...|          NULL|     NULL|51db9164-a000-462...|                   69|          69|          1658879| 1660583|             NULL|                    NULL|        NULL|                             NULL|             NULL|            NULL|                   NULL|       NULL|                            NULL|            NULL|                  9|          false|      PT23.6586654S|                23|                     8|         2844.956983089447|                      234|                       1|                      115|                          0|                              0|                               2|          283.0304431915283|               968.3815231323242|                              0|                 28|                  10|                         0|      0|      1|    3|https://content.h...|        225|       150|                74|                 74|        1125|          899|      Strongholds|Kill an enemy tha...| Stronghold Defense|        20|Each of Halo's mi...|  Glacier|\n",
      "|c7805740-f206-11e...|2916014239|0001a1c4-83dc-4f4...|    ILLICIT 117|        true|780cc101-005c-4fc...|b45854a7-e6e1-4a9...|         true|2016-01-06 00:00:...|          NULL|     NULL|51db9164-a000-462...|                   69|          69|          1658879| 1660583|             NULL|                    NULL|        NULL|                             NULL|             NULL|            NULL|                   NULL|       NULL|                            NULL|            NULL|                  9|          false|      PT23.6586654S|                23|                     8|         2844.956983089447|                      234|                       1|                      115|                          0|                              0|                               2|          283.0304431915283|               968.3815231323242|                              0|                 28|                  10|                         0|      0|      1|    5|https://content.h...|        375|       450|                74|                 74|        1125|          899|            Style|Assist in a Team ...|      Team Takedown|       245|Each of Halo's mi...|  Glacier|\n",
      "|c7805740-f206-11e...|1326375333|0001a1c4-83dc-4f4...|    ILLICIT 117|        true|780cc101-005c-4fc...|b45854a7-e6e1-4a9...|         true|2016-01-06 00:00:...|          NULL|     NULL|51db9164-a000-462...|                   69|          69|          1658879| 1660583|             NULL|                    NULL|        NULL|                             NULL|             NULL|            NULL|                   NULL|       NULL|                            NULL|            NULL|                  9|          false|      PT23.6586654S|                23|                     8|         2844.956983089447|                      234|                       1|                      115|                          0|                              0|                               2|          283.0304431915283|               968.3815231323242|                              0|                 28|                  10|                         0|      0|      1|    1|https://content.h...|        300|         0|                74|                 74|        1125|          899|            Style|Assist in a Team ...|      Team Takedown|       245|Each of Halo's mi...|  Glacier|\n",
      "|c7805740-f206-11e...|3744028405|0001a1c4-83dc-4f4...|    ILLICIT 117|        true|780cc101-005c-4fc...|b45854a7-e6e1-4a9...|         true|2016-01-06 00:00:...|          NULL|     NULL|51db9164-a000-462...|                   69|          69|          1658879| 1660583|             NULL|                    NULL|        NULL|                             NULL|             NULL|            NULL|                   NULL|       NULL|                            NULL|            NULL|                  9|          false|      PT23.6586654S|                23|                     8|         2844.956983089447|                      234|                       1|                      115|                          0|                              0|                               2|          283.0304431915283|               968.3815231323242|                              0|                 28|                  10|                         0|      0|      1|    1|https://content.h...|        750|       525|                74|                 74|        1125|          899|            Style|Get a spree of an...|            Wingman|        35|Each of Halo's mi...|  Glacier|\n",
      "|c7805740-f206-11e...|3400287617|0001a1c4-83dc-4f4...|    ILLICIT 117|        true|780cc101-005c-4fc...|b45854a7-e6e1-4a9...|         true|2016-01-06 00:00:...|          NULL|     NULL|51db9164-a000-462...|                   69|          69|          1658879| 1660583|             NULL|                    NULL|        NULL|                             NULL|             NULL|            NULL|                   NULL|       NULL|                            NULL|            NULL|                  9|          false|      PT23.6586654S|                23|                     8|         2844.956983089447|                      234|                       1|                      115|                          0|                              0|                               2|          283.0304431915283|               968.3815231323242|                              0|                 28|                  10|                         0|      0|      1|    1|https://content.h...|        450|       600|                74|                 74|        1125|          899|            Style|Kill an opponent ...|         Close Call|       155|Each of Halo's mi...|  Glacier|\n",
      "|c7805740-f206-11e...|3676723563|0001a1c4-83dc-4f4...|    ILLICIT 117|        true|780cc101-005c-4fc...|b45854a7-e6e1-4a9...|         true|2016-01-06 00:00:...|          NULL|     NULL|51db9164-a000-462...|                   69|          69|          1658879| 1660583|             NULL|                    NULL|        NULL|                             NULL|             NULL|            NULL|                   NULL|       NULL|                            NULL|            NULL|                  9|          false|      PT23.6586654S|                23|                     8|         2844.956983089447|                      234|                       1|                      115|                          0|                              0|                               2|          283.0304431915283|               968.3815231323242|                              0|                 28|                  10|                         0|      0|      1|    1|https://content.h...|        375|       825|                74|                 74|        1125|          899|         Vehicles|Kill an opponent ...|           Splatter|        40|Each of Halo's mi...|  Glacier|\n",
      "|c7805740-f206-11e...|2105198095|0001a1c4-83dc-4f4...|    ILLICIT 117|        true|780cc101-005c-4fc...|b45854a7-e6e1-4a9...|         true|2016-01-06 00:00:...|          NULL|     NULL|51db9164-a000-462...|                   69|          69|          1658879| 1660583|             NULL|                    NULL|        NULL|                             NULL|             NULL|            NULL|                   NULL|       NULL|                            NULL|            NULL|                  9|          false|      PT23.6586654S|                23|                     8|         2844.956983089447|                      234|                       1|                      115|                          0|                              0|                               2|          283.0304431915283|               968.3815231323242|                              0|                 28|                  10|                         0|      0|      1|    2|https://content.h...|        525|       300|                74|                 74|        1125|          899|      Strongholds|Control all Stron...|      Total Control|         5|Each of Halo's mi...|  Glacier|\n",
      "|c7805740-f206-11e...| 250435527|0001a1c4-83dc-4f4...|    ILLICIT 117|        true|780cc101-005c-4fc...|b45854a7-e6e1-4a9...|         true|2016-01-06 00:00:...|          NULL|     NULL|51db9164-a000-462...|                   69|          69|          1658879| 1660583|             NULL|                    NULL|        NULL|                             NULL|             NULL|            NULL|                   NULL|       NULL|                            NULL|            NULL|                  9|          false|      PT23.6586654S|                23|                     8|         2844.956983089447|                      234|                       1|                      115|                          0|                              0|                               2|          283.0304431915283|               968.3815231323242|                              0|                 28|                  10|                         0|      0|      1|    1|https://content.h...|        900|       225|                74|                 74|        1125|          899|            Style|Kill an enemy usi...|            Brawler|       195|Each of Halo's mi...|  Glacier|\n",
      "|c7805740-f206-11e...|1637841390|0001a1c4-83dc-4f4...|    JASHOBEAM11|        true|780cc101-005c-4fc...|b45854a7-e6e1-4a9...|         true|2016-01-06 00:00:...|          NULL|     NULL|51db9164-a000-462...|                   51|          51|           885716|  887326|             NULL|                    NULL|        NULL|                             NULL|             NULL|            NULL|                   NULL|       NULL|                            NULL|            NULL|                  2|          false|      PT38.9487451S|                21|                    10|        3136.9327354431152|                      324|                       1|       237.49999809265137|                          0|                              0|                               0|         432.89923095703125|               394.9690246582031|                              1|                 18|                  16|                         0|      1|      0|    2|https://content.h...|          0|       375|                74|                 74|        1125|          899|      Strongholds|Assist in capturi...|     Capture Assist|        40|Each of Halo's mi...|  Glacier|\n",
      "|c7805740-f206-11e...|3565443938|0001a1c4-83dc-4f4...|    JASHOBEAM11|        true|780cc101-005c-4fc...|b45854a7-e6e1-4a9...|         true|2016-01-06 00:00:...|          NULL|     NULL|51db9164-a000-462...|                   51|          51|           885716|  887326|             NULL|                    NULL|        NULL|                             NULL|             NULL|            NULL|                   NULL|       NULL|                            NULL|            NULL|                  2|          false|      PT38.9487451S|                21|                    10|        3136.9327354431152|                      324|                       1|       237.49999809265137|                          0|                              0|                               0|         432.89923095703125|               394.9690246582031|                              1|                 18|                  16|                         0|      1|      0|    6|https://content.h...|        750|       450|                74|                 74|        1125|          899|      Strongholds|Capture a Strongh...|Stronghold Captured|        15|Each of Halo's mi...|  Glacier|\n",
      "|c7805740-f206-11e...|3261908037|0001a1c4-83dc-4f4...|    JASHOBEAM11|        true|780cc101-005c-4fc...|b45854a7-e6e1-4a9...|         true|2016-01-06 00:00:...|          NULL|     NULL|51db9164-a000-462...|                   51|          51|           885716|  887326|             NULL|                    NULL|        NULL|                             NULL|             NULL|            NULL|                   NULL|       NULL|                            NULL|            NULL|                  2|          false|      PT38.9487451S|                21|                    10|        3136.9327354431152|                      324|                       1|       237.49999809265137|                          0|                              0|                               0|         432.89923095703125|               394.9690246582031|                              1|                 18|                  16|                         0|      1|      0|   10|https://content.h...|        375|       525|                74|                 74|        1125|          899|WeaponProficiency|Kill an opponent ...|           Headshot|        60|Each of Halo's mi...|  Glacier|\n",
      "|c7805740-f206-11e...|1326375333|0001a1c4-83dc-4f4...|    JASHOBEAM11|        true|780cc101-005c-4fc...|b45854a7-e6e1-4a9...|         true|2016-01-06 00:00:...|          NULL|     NULL|51db9164-a000-462...|                   51|          51|           885716|  887326|             NULL|                    NULL|        NULL|                             NULL|             NULL|            NULL|                   NULL|       NULL|                            NULL|            NULL|                  2|          false|      PT38.9487451S|                21|                    10|        3136.9327354431152|                      324|                       1|       237.49999809265137|                          0|                              0|                               0|         432.89923095703125|               394.9690246582031|                              1|                 18|                  16|                         0|      1|      0|    2|https://content.h...|        300|         0|                74|                 74|        1125|          899|            Style|Assist in a Team ...|      Team Takedown|       245|Each of Halo's mi...|  Glacier|\n",
      "|c7805740-f206-11e...|3676723563|0001a1c4-83dc-4f4...|    JASHOBEAM11|        true|780cc101-005c-4fc...|b45854a7-e6e1-4a9...|         true|2016-01-06 00:00:...|          NULL|     NULL|51db9164-a000-462...|                   51|          51|           885716|  887326|             NULL|                    NULL|        NULL|                             NULL|             NULL|            NULL|                   NULL|       NULL|                            NULL|            NULL|                  2|          false|      PT38.9487451S|                21|                    10|        3136.9327354431152|                      324|                       1|       237.49999809265137|                          0|                              0|                               0|         432.89923095703125|               394.9690246582031|                              1|                 18|                  16|                         0|      1|      0|    1|https://content.h...|        375|       825|                74|                 74|        1125|          899|         Vehicles|Kill an opponent ...|           Splatter|        40|Each of Halo's mi...|  Glacier|\n",
      "|c7805740-f206-11e...|2916014239|0001a1c4-83dc-4f4...|    JASHOBEAM11|        true|780cc101-005c-4fc...|b45854a7-e6e1-4a9...|         true|2016-01-06 00:00:...|          NULL|     NULL|51db9164-a000-462...|                   51|          51|           885716|  887326|             NULL|                    NULL|        NULL|                             NULL|             NULL|            NULL|                   NULL|       NULL|                            NULL|            NULL|                  2|          false|      PT38.9487451S|                21|                    10|        3136.9327354431152|                      324|                       1|       237.49999809265137|                          0|                              0|                               0|         432.89923095703125|               394.9690246582031|                              1|                 18|                  16|                         0|      1|      0|    2|https://content.h...|        375|       450|                74|                 74|        1125|          899|            Style|Assist in a Team ...|      Team Takedown|       245|Each of Halo's mi...|  Glacier|\n",
      "|c7805740-f206-11e...|1351381581|0001a1c4-83dc-4f4...|    JASHOBEAM11|        true|780cc101-005c-4fc...|b45854a7-e6e1-4a9...|         true|2016-01-06 00:00:...|          NULL|     NULL|51db9164-a000-462...|                   51|          51|           885716|  887326|             NULL|                    NULL|        NULL|                             NULL|             NULL|            NULL|                   NULL|       NULL|                            NULL|            NULL|                  2|          false|      PT38.9487451S|                21|                    10|        3136.9327354431152|                      324|                       1|       237.49999809265137|                          0|                              0|                               0|         432.89923095703125|               394.9690246582031|                              1|                 18|                  16|                         0|      1|      0|    4|https://content.h...|        225|       150|                74|                 74|        1125|          899|      Strongholds|Kill an enemy tha...| Stronghold Defense|        20|Each of Halo's mi...|  Glacier|\n",
      "|c7805740-f206-11e...|2287626681|0001a1c4-83dc-4f4...|    JASHOBEAM11|        true|780cc101-005c-4fc...|b45854a7-e6e1-4a9...|         true|2016-01-06 00:00:...|          NULL|     NULL|51db9164-a000-462...|                   51|          51|           885716|  887326|             NULL|                    NULL|        NULL|                             NULL|             NULL|            NULL|                   NULL|       NULL|                            NULL|            NULL|                  2|          false|      PT38.9487451S|                21|                    10|        3136.9327354431152|                      324|                       1|       237.49999809265137|                          0|                              0|                               0|         432.89923095703125|               394.9690246582031|                              1|                 18|                  16|                         0|      1|      0|    1|https://content.h...|        600|       300|                74|                 74|        1125|          899|            Style|Kill an opponent ...|         Melee Kill|       220|Each of Halo's mi...|  Glacier|\n",
      "+--------------------+----------+--------------------+---------------+------------+--------------------+--------------------+-------------+--------------------+--------------+---------+--------------------+---------------------+------------+-----------------+--------+-----------------+------------------------+------------+---------------------------------+-----------------+----------------+-----------------------+-----------+--------------------------------+----------------+-------------------+---------------+-------------------+------------------+----------------------+--------------------------+-------------------------+------------------------+-------------------------+---------------------------+-------------------------------+--------------------------------+---------------------------+--------------------------------+-------------------------------+-------------------+--------------------+--------------------------+-------+-------+-----+--------------------+-----------+----------+------------------+-------------------+------------+-------------+-----------------+--------------------+-------------------+----------+--------------------+---------+\n",
      "only showing top 20 rows\n",
      "\n"
     ]
    },
    {
     "name": "stderr",
     "output_type": "stream",
     "text": [
      "                                                                                \r"
     ]
    }
   ],
   "source": [
    "result_df1 = bucket_joined.join(broadcast(medals_df), \"medal_id\")\n",
    "\n",
    "full_annotated_matches = result_df1.join(broadcast(maps_df), \"mapid\")\n",
    "full_annotated_matches.show()"
   ]
  },
  {
   "cell_type": "code",
   "execution_count": 13,
   "id": "afddc8a3-fa5b-4595-a90b-93b023331abd",
   "metadata": {},
   "outputs": [
    {
     "name": "stderr",
     "output_type": "stream",
     "text": [
      "                                                                                \r"
     ]
    }
   ],
   "source": [
    "full_annotated_matches.write.mode(\"overwrite\").saveAsTable(\"bootcamp.full_annotated_matches_unsorted\")"
   ]
  },
  {
   "cell_type": "code",
   "execution_count": 14,
   "id": "7ad2dd6f-bd3d-4fe6-98d4-4ebaca384acc",
   "metadata": {},
   "outputs": [
    {
     "name": "stderr",
     "output_type": "stream",
     "text": [
      "[Stage 63:>                                                       (0 + 12) / 13]\r"
     ]
    },
    {
     "name": "stdout",
     "output_type": "stream",
     "text": [
      "+---------------+-------+\n",
      "|player_gamertag|mtc_cnt|\n",
      "+---------------+-------+\n",
      "|   gimpinator14|  109.0|\n",
      "+---------------+-------+\n",
      "only showing top 1 row\n",
      "\n"
     ]
    },
    {
     "name": "stderr",
     "output_type": "stream",
     "text": [
      "                                                                                \r"
     ]
    }
   ],
   "source": [
    "full_annotated_matches.groupby(\n",
    "    \"player_gamertag\").agg(avg(\"player_total_kills\").alias('mtc_cnt')).orderBy(col('mtc_cnt').desc()).show(1)\n",
    "#).show()#write.bucketBy(16,\"match_id\").mode('overwrite').saveAsTable(\"bootcamp.match_details_bucketed\")"
   ]
  },
  {
   "cell_type": "code",
   "execution_count": 16,
   "id": "859ef422-86e3-4e2d-bdec-843a1343e019",
   "metadata": {},
   "outputs": [
    {
     "name": "stdout",
     "output_type": "stream",
     "text": [
      "+--------------------+-------+\n",
      "|         playlist_id|mtc_cnt|\n",
      "+--------------------+-------+\n",
      "|f72e0ef0-7c4a-430...|   7640|\n",
      "+--------------------+-------+\n",
      "only showing top 1 row\n",
      "\n"
     ]
    }
   ],
   "source": [
    "#full_annotated_matches.createOrReplaceTempView(\"EMP\")\n",
    "\n",
    "# PySpark SQL\n",
    "sql_str=\"select playlist_id, count(distinct match_id) as mtc_cnt\" \\\n",
    "\" from bootcamp.full_annotated_matches_unsorted \"  \\\n",
    "\" group by playlist_id \" \\\n",
    "\"order by count(distinct match_id) desc\"\n",
    "spark.sql(sql_str).show(1)"
   ]
  },
  {
   "cell_type": "code",
   "execution_count": 17,
   "id": "b8661c79-8534-4c6c-8d58-0b62cb22efeb",
   "metadata": {
    "scrolled": true
   },
   "outputs": [
    {
     "name": "stdout",
     "output_type": "stream",
     "text": [
      "+--------------------+--------------+-------+\n",
      "|               mapid|     maps_name|mtc_cnt|\n",
      "+--------------------+--------------+-------+\n",
      "|c7edbf0f-f206-11e...|Breakout Arena|   7032|\n",
      "+--------------------+--------------+-------+\n",
      "only showing top 1 row\n",
      "\n"
     ]
    }
   ],
   "source": [
    "#full_annotated_matches.createOrReplaceTempView(\"EMP\")\n",
    "\n",
    "# PySpark SQL\n",
    "sql_str=\"select mapid, maps_name, count(distinct match_id) as mtc_cnt\" \\\n",
    "\" from bootcamp.full_annotated_matches_unsorted \"  \\\n",
    "\" group by mapid, maps_name \" \\\n",
    "\"order by count(distinct match_id) desc\"\n",
    "spark.sql(sql_str).show(1)"
   ]
  },
  {
   "cell_type": "code",
   "execution_count": 18,
   "id": "2b0fecfb-b19e-439e-908d-c6bc39321fd5",
   "metadata": {},
   "outputs": [
    {
     "name": "stdout",
     "output_type": "stream",
     "text": [
      "+--------------------+--------------+---------+\n",
      "|               mapid|     maps_name|medal_cnt|\n",
      "+--------------------+--------------+---------+\n",
      "|c7edbf0f-f206-11e...|Breakout Arena|     6734|\n",
      "+--------------------+--------------+---------+\n",
      "only showing top 1 row\n",
      "\n"
     ]
    }
   ],
   "source": [
    "sql_str=\"select mapid, maps_name, count(match_id) as medal_cnt\" \\\n",
    "\" from bootcamp.full_annotated_matches_unsorted \"  \\\n",
    "'where classification = \"KillingSpree\"'\\\n",
    "\" group by mapid, maps_name \" \\\n",
    "\"order by count(distinct match_id) desc\"\n",
    "spark.sql(sql_str).show(1)\n",
    "\n"
   ]
  },
  {
   "cell_type": "code",
   "execution_count": 21,
   "id": "00029378-9b80-4bbb-b8c1-5053ab3d3426",
   "metadata": {},
   "outputs": [
    {
     "name": "stderr",
     "output_type": "stream",
     "text": [
      "                                                                                \r"
     ]
    }
   ],
   "source": [
    "full_annotated_matches\n",
    "\n",
    "first_sort_df = full_annotated_matches.sortWithinPartitions(col(\"mapid\"),col(\"playlist_id\"),col(\"match_id\"))\n",
    "\n",
    "#sorted = df.repartition(10, col(\"event_date\")) \\\n",
    "#        .sortWithinPartitions(col(\"event_date\")) \\\n",
    "#        .withColumn(\"event_time\", col(\"event_time\").cast(\"timestamp\")) \\\n",
    "\n",
    "first_sort_df.write.mode(\"overwrite\").saveAsTable(\"bootcamp.full_annotated_matches_sorted\")"
   ]
  },
  {
   "cell_type": "code",
   "execution_count": 23,
   "id": "84ae8b2f-ee52-49d1-8261-dc3ce20db7db",
   "metadata": {},
   "outputs": [
    {
     "data": {
      "text/html": [
       "<table>\n",
       "    <thead>\n",
       "        <tr>\n",
       "            <th>size</th>\n",
       "            <th>num_files</th>\n",
       "            <th>unsorted</th>\n",
       "        </tr>\n",
       "    </thead>\n",
       "    <tbody>\n",
       "        <tr>\n",
       "            <td>23730402</td>\n",
       "            <td>13</td>\n",
       "            <td>unsorted</td>\n",
       "        </tr>\n",
       "        <tr>\n",
       "            <td>22375541</td>\n",
       "            <td>13</td>\n",
       "            <td>sorted</td>\n",
       "        </tr>\n",
       "    </tbody>\n",
       "</table>"
      ],
      "text/plain": [
       "+----------+-----------+----------+\n",
       "|     size | num_files | unsorted |\n",
       "+----------+-----------+----------+\n",
       "| 23730402 |        13 | unsorted |\n",
       "| 22375541 |        13 |   sorted |\n",
       "+----------+-----------+----------+"
      ]
     },
     "execution_count": 23,
     "metadata": {},
     "output_type": "execute_result"
    }
   ],
   "source": [
    "%%sql\n",
    "\n",
    "SELECT SUM(file_size_in_bytes) as size, COUNT(1) as num_files, 'unsorted' \n",
    "FROM bootcamp.full_annotated_matches_unsorted.files\n",
    "\n",
    "UNION ALL\n",
    "SELECT SUM(file_size_in_bytes) as size, COUNT(1) as num_files, 'sorted' \n",
    "FROM bootcamp.full_annotated_matches_sorted.files\n",
    "\n",
    "\n",
    "\n"
   ]
  },
  {
   "cell_type": "code",
   "execution_count": null,
   "id": "96573449-e432-4c1d-8e25-dd1ab6581a04",
   "metadata": {},
   "outputs": [],
   "source": []
  },
  {
   "cell_type": "code",
   "execution_count": null,
   "id": "56f10202-f470-4179-8d1e-f39e32127f3e",
   "metadata": {},
   "outputs": [],
   "source": [
    "%%sql\n",
    "\n",
    "DROP TABLE IF EXISTS bootcamp.match_details_bucketed"
   ]
  },
  {
   "cell_type": "code",
   "execution_count": null,
   "id": "88200434-c01c-45f5-b5a8-a457594e58cf",
   "metadata": {},
   "outputs": [],
   "source": []
  },
  {
   "cell_type": "code",
   "execution_count": null,
   "id": "e010b360-a2ff-4910-8ff7-b9c72fe6c801",
   "metadata": {},
   "outputs": [],
   "source": []
  },
  {
   "cell_type": "code",
   "execution_count": null,
   "id": "54fe60ec-1e37-4216-9467-b54ddeaafac3",
   "metadata": {},
   "outputs": [],
   "source": [
    "  - Disabled automatic broadcast join with `spark.conf.set(\"spark.sql.autoBroadcastJoinThreshold\", \"-1\")`\n",
    "  - Explicitly broadcast JOINs `medals` and `maps`\n",
    "  - Bucket join `match_details`, `matches`, and `medal_matches_players` on `match_id` with `16` buckets\n",
    "  - Aggregate the joined data frame to figure out questions like:\n",
    "    - Which player averages the most kills per game?\n",
    "    - Which playlist gets played the most?\n",
    "    - Which map gets played the most?\n",
    "    - Which map do players get the most Killing Spree medals on?\n",
    "  - With the aggregated data set\n",
    "    - Try different `.sortWithinPartitions` to see which has the smallest data size (hint: playlists and maps are both very low cardinality)"
   ]
  },
  {
   "cell_type": "code",
   "execution_count": null,
   "id": "73225ac0-b129-44bd-9975-6bcf3aa8f23d",
   "metadata": {},
   "outputs": [],
   "source": []
  }
 ],
 "metadata": {
  "kernelspec": {
   "display_name": "Python 3 (ipykernel)",
   "language": "python",
   "name": "python3"
  },
  "language_info": {
   "codemirror_mode": {
    "name": "ipython",
    "version": 3
   },
   "file_extension": ".py",
   "mimetype": "text/x-python",
   "name": "python",
   "nbconvert_exporter": "python",
   "pygments_lexer": "ipython3",
   "version": "3.9.18"
  }
 },
 "nbformat": 4,
 "nbformat_minor": 5
}
