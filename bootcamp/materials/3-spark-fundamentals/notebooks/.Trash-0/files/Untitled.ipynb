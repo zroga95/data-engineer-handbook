{
 "cells": [
  {
   "cell_type": "code",
   "execution_count": null,
   "id": "66a4f989-478d-44d9-8ff5-9d8bab34fc69",
   "metadata": {},
   "outputs": [],
   "source": []
  }
 ],
 "metadata": {
  "kernelspec": {
   "display_name": "",
   "name": ""
  },
  "language_info": {
   "name": ""
  }
 },
 "nbformat": 4,
 "nbformat_minor": 5
}
